{
 "cells": [
  {
   "cell_type": "code",
   "execution_count": 2,
   "id": "08428e60",
   "metadata": {},
   "outputs": [
    {
     "name": "stderr",
     "output_type": "stream",
     "text": [
      "C:\\Users\\mabha\\anaconda3\\lib\\site-packages\\scipy\\__init__.py:155: UserWarning: A NumPy version >=1.18.5 and <1.25.0 is required for this version of SciPy (detected version 1.26.1\n",
      "  warnings.warn(f\"A NumPy version >={np_minversion} and <{np_maxversion}\"\n",
      "[nltk_data] Downloading package wordnet to\n",
      "[nltk_data]     C:\\Users\\mabha\\AppData\\Roaming\\nltk_data...\n",
      "[nltk_data]   Package wordnet is already up-to-date!\n",
      "[nltk_data] Downloading package omw-1.4 to\n",
      "[nltk_data]     C:\\Users\\mabha\\AppData\\Roaming\\nltk_data...\n",
      "[nltk_data]   Package omw-1.4 is already up-to-date!\n",
      "[nltk_data] Downloading package stopwords to\n",
      "[nltk_data]     C:\\Users\\mabha\\AppData\\Roaming\\nltk_data...\n",
      "[nltk_data]   Package stopwords is already up-to-date!\n",
      "[nltk_data] Downloading package punkt to\n",
      "[nltk_data]     C:\\Users\\mabha\\AppData\\Roaming\\nltk_data...\n",
      "[nltk_data]   Package punkt is already up-to-date!\n"
     ]
    },
    {
     "data": {
      "text/plain": [
       "True"
      ]
     },
     "execution_count": 2,
     "metadata": {},
     "output_type": "execute_result"
    }
   ],
   "source": [
    "import os\n",
    "import pandas as pd\n",
    "import re\n",
    "import nltk\n",
    "import seaborn as sns\n",
    "import tensorflow\n",
    "import matplotlib.pyplot as plt\n",
    "import transformers\n",
    "import tokenizers\n",
    "from sklearn.metrics import classification_report, confusion_matrix, accuracy_score\n",
    "from transformers import DistilBertTokenizerFast\n",
    "from collections import Counter\n",
    "from wordcloud import WordCloud\n",
    "from bs4 import BeautifulSoup\n",
    "from collections import Counter\n",
    "from wordcloud import WordCloud\n",
    "from nltk.tokenize import word_tokenize\n",
    "from nltk.corpus import stopwords\n",
    "from nltk.stem import WordNetLemmatizer\n",
    "from sklearn.preprocessing import LabelEncoder\n",
    "from sklearn.metrics import accuracy_score\n",
    "from tensorflow.keras.preprocessing.text import Tokenizer\n",
    "from tensorflow.keras.preprocessing.sequence import pad_sequences\n",
    "from tensorflow.keras.models import Sequential\n",
    "from sklearn.model_selection import train_test_split\n",
    "from tensorflow.keras.layers import Embedding, LSTM, Dense, Bidirectional, Dropout\n",
    "from keras.layers import SimpleRNN,Dense,Activation\n",
    "from sklearn.feature_extraction.text import CountVectorizer, TfidfVectorizer\n",
    "from sklearn.linear_model import LogisticRegression\n",
    "from sklearn.svm import LinearSVC\n",
    "from sklearn.ensemble import GradientBoostingClassifier\n",
    "from sklearn.naive_bayes import GaussianNB, MultinomialNB\n",
    "nltk.download('wordnet')\n",
    "nltk.download('omw-1.4')\n",
    "nltk.download('stopwords')\n",
    "nltk.download('punkt')\n"
   ]
  },
  {
   "cell_type": "code",
   "execution_count": 3,
   "id": "b95ba008",
   "metadata": {},
   "outputs": [
    {
     "name": "stdout",
     "output_type": "stream",
     "text": [
      "Requirement already satisfied: transformers in c:\\users\\mabha\\anaconda3\\lib\\site-packages (4.35.2)\n",
      "Requirement already satisfied: packaging>=20.0 in c:\\users\\mabha\\anaconda3\\lib\\site-packages (from transformers) (21.3)\n",
      "Requirement already satisfied: huggingface-hub<1.0,>=0.16.4 in c:\\users\\mabha\\anaconda3\\lib\\site-packages (from transformers) (0.19.4)\n",
      "Requirement already satisfied: numpy>=1.17 in c:\\users\\mabha\\anaconda3\\lib\\site-packages (from transformers) (1.26.1)\n",
      "Requirement already satisfied: requests in c:\\users\\mabha\\anaconda3\\lib\\site-packages (from transformers) (2.28.1)\n",
      "Requirement already satisfied: pyyaml>=5.1 in c:\\users\\mabha\\anaconda3\\lib\\site-packages (from transformers) (6.0)\n",
      "Requirement already satisfied: safetensors>=0.3.1 in c:\\users\\mabha\\anaconda3\\lib\\site-packages (from transformers) (0.4.0)\n",
      "Requirement already satisfied: regex!=2019.12.17 in c:\\users\\mabha\\anaconda3\\lib\\site-packages (from transformers) (2022.7.9)\n",
      "Requirement already satisfied: tokenizers<0.19,>=0.14 in c:\\users\\mabha\\anaconda3\\lib\\site-packages (from transformers) (0.15.0)\n",
      "Requirement already satisfied: filelock in c:\\users\\mabha\\anaconda3\\lib\\site-packages (from transformers) (3.6.0)\n",
      "Requirement already satisfied: tqdm>=4.27 in c:\\users\\mabha\\anaconda3\\lib\\site-packages (from transformers) (4.64.1)\n",
      "Requirement already satisfied: typing-extensions>=3.7.4.3 in c:\\users\\mabha\\anaconda3\\lib\\site-packages (from huggingface-hub<1.0,>=0.16.4->transformers) (4.8.0)\n",
      "Requirement already satisfied: fsspec>=2023.5.0 in c:\\users\\mabha\\anaconda3\\lib\\site-packages (from huggingface-hub<1.0,>=0.16.4->transformers) (2023.10.0)\n",
      "Requirement already satisfied: pyparsing!=3.0.5,>=2.0.2 in c:\\users\\mabha\\anaconda3\\lib\\site-packages (from packaging>=20.0->transformers) (3.0.9)\n",
      "Requirement already satisfied: colorama in c:\\users\\mabha\\anaconda3\\lib\\site-packages (from tqdm>=4.27->transformers) (0.4.5)\n",
      "Requirement already satisfied: urllib3<1.27,>=1.21.1 in c:\\users\\mabha\\anaconda3\\lib\\site-packages (from requests->transformers) (1.26.11)\n",
      "Requirement already satisfied: idna<4,>=2.5 in c:\\users\\mabha\\anaconda3\\lib\\site-packages (from requests->transformers) (3.3)\n",
      "Requirement already satisfied: charset-normalizer<3,>=2 in c:\\users\\mabha\\anaconda3\\lib\\site-packages (from requests->transformers) (2.0.4)\n",
      "Requirement already satisfied: certifi>=2017.4.17 in c:\\users\\mabha\\anaconda3\\lib\\site-packages (from requests->transformers) (2022.9.14)\n",
      "Note: you may need to restart the kernel to use updated packages.\n"
     ]
    }
   ],
   "source": [
    "pip install transformers"
   ]
  },
  {
   "cell_type": "code",
   "execution_count": 4,
   "id": "226ded02",
   "metadata": {},
   "outputs": [],
   "source": [
    "df= pd.read_csv(\"IMDB_Dataset.csv\")"
   ]
  },
  {
   "cell_type": "code",
   "execution_count": 5,
   "id": "431a7c65",
   "metadata": {
    "scrolled": false
   },
   "outputs": [
    {
     "data": {
      "text/html": [
       "<div>\n",
       "<style scoped>\n",
       "    .dataframe tbody tr th:only-of-type {\n",
       "        vertical-align: middle;\n",
       "    }\n",
       "\n",
       "    .dataframe tbody tr th {\n",
       "        vertical-align: top;\n",
       "    }\n",
       "\n",
       "    .dataframe thead th {\n",
       "        text-align: right;\n",
       "    }\n",
       "</style>\n",
       "<table border=\"1\" class=\"dataframe\">\n",
       "  <thead>\n",
       "    <tr style=\"text-align: right;\">\n",
       "      <th></th>\n",
       "      <th>review</th>\n",
       "      <th>sentiment</th>\n",
       "    </tr>\n",
       "  </thead>\n",
       "  <tbody>\n",
       "    <tr>\n",
       "      <th>0</th>\n",
       "      <td>One of the other reviewers has mentioned that ...</td>\n",
       "      <td>positive</td>\n",
       "    </tr>\n",
       "    <tr>\n",
       "      <th>1</th>\n",
       "      <td>A wonderful little production. &lt;br /&gt;&lt;br /&gt;The...</td>\n",
       "      <td>positive</td>\n",
       "    </tr>\n",
       "    <tr>\n",
       "      <th>2</th>\n",
       "      <td>I thought this was a wonderful way to spend ti...</td>\n",
       "      <td>positive</td>\n",
       "    </tr>\n",
       "    <tr>\n",
       "      <th>3</th>\n",
       "      <td>Basically there's a family where a little boy ...</td>\n",
       "      <td>negative</td>\n",
       "    </tr>\n",
       "    <tr>\n",
       "      <th>4</th>\n",
       "      <td>Petter Mattei's \"Love in the Time of Money\" is...</td>\n",
       "      <td>positive</td>\n",
       "    </tr>\n",
       "    <tr>\n",
       "      <th>...</th>\n",
       "      <td>...</td>\n",
       "      <td>...</td>\n",
       "    </tr>\n",
       "    <tr>\n",
       "      <th>49995</th>\n",
       "      <td>I thought this movie did a down right good job...</td>\n",
       "      <td>positive</td>\n",
       "    </tr>\n",
       "    <tr>\n",
       "      <th>49996</th>\n",
       "      <td>Bad plot, bad dialogue, bad acting, idiotic di...</td>\n",
       "      <td>negative</td>\n",
       "    </tr>\n",
       "    <tr>\n",
       "      <th>49997</th>\n",
       "      <td>I am a Catholic taught in parochial elementary...</td>\n",
       "      <td>negative</td>\n",
       "    </tr>\n",
       "    <tr>\n",
       "      <th>49998</th>\n",
       "      <td>I'm going to have to disagree with the previou...</td>\n",
       "      <td>negative</td>\n",
       "    </tr>\n",
       "    <tr>\n",
       "      <th>49999</th>\n",
       "      <td>No one expects the Star Trek movies to be high...</td>\n",
       "      <td>negative</td>\n",
       "    </tr>\n",
       "  </tbody>\n",
       "</table>\n",
       "<p>50000 rows × 2 columns</p>\n",
       "</div>"
      ],
      "text/plain": [
       "                                                  review sentiment\n",
       "0      One of the other reviewers has mentioned that ...  positive\n",
       "1      A wonderful little production. <br /><br />The...  positive\n",
       "2      I thought this was a wonderful way to spend ti...  positive\n",
       "3      Basically there's a family where a little boy ...  negative\n",
       "4      Petter Mattei's \"Love in the Time of Money\" is...  positive\n",
       "...                                                  ...       ...\n",
       "49995  I thought this movie did a down right good job...  positive\n",
       "49996  Bad plot, bad dialogue, bad acting, idiotic di...  negative\n",
       "49997  I am a Catholic taught in parochial elementary...  negative\n",
       "49998  I'm going to have to disagree with the previou...  negative\n",
       "49999  No one expects the Star Trek movies to be high...  negative\n",
       "\n",
       "[50000 rows x 2 columns]"
      ]
     },
     "execution_count": 5,
     "metadata": {},
     "output_type": "execute_result"
    }
   ],
   "source": [
    "df"
   ]
  },
  {
   "cell_type": "code",
   "execution_count": 6,
   "id": "5d74c2a8",
   "metadata": {},
   "outputs": [
    {
     "data": {
      "text/plain": [
       "0        One of the other reviewers has mentioned that ...\n",
       "1        A wonderful little production. <br /><br />The...\n",
       "2        I thought this was a wonderful way to spend ti...\n",
       "3        Basically there's a family where a little boy ...\n",
       "4        Petter Mattei's \"Love in the Time of Money\" is...\n",
       "                               ...                        \n",
       "49995    I thought this movie did a down right good job...\n",
       "49996    Bad plot, bad dialogue, bad acting, idiotic di...\n",
       "49997    I am a Catholic taught in parochial elementary...\n",
       "49998    I'm going to have to disagree with the previou...\n",
       "49999    No one expects the Star Trek movies to be high...\n",
       "Name: review, Length: 50000, dtype: object"
      ]
     },
     "execution_count": 6,
     "metadata": {},
     "output_type": "execute_result"
    }
   ],
   "source": [
    "df[\"review\"]"
   ]
  },
  {
   "cell_type": "markdown",
   "id": "47eb623b",
   "metadata": {},
   "source": [
    "# Preprocessing\n"
   ]
  },
  {
   "cell_type": "code",
   "execution_count": 7,
   "id": "08476dd7",
   "metadata": {},
   "outputs": [],
   "source": [
    "def lowercase_text(text):\n",
    "    return text.lower()\n",
    "\n",
    "def clean_text(text):\n",
    "    text = re.sub(r'[^A-Za-z\\s]', '', text)\n",
    "    return text\n",
    "\n",
    "def tokenize_text(text):\n",
    "    return word_tokenize(text)\n",
    "\n",
    "def remove_stopwords(tokens):\n",
    "    stop_words = set(stopwords.words('english'))\n",
    "    return [word for word in tokens if word not in stop_words]\n",
    "\n",
    "def lemmatize_text(tokens):\n",
    "    lemmatizer = WordNetLemmatizer()\n",
    "    return [lemmatizer.lemmatize(word) for word in tokens]\n",
    "\n",
    "def join_tokens(tokens):\n",
    "    return ' '.join(tokens)\n",
    "\n",
    "def remove_html_tags(text):\n",
    "    soup = BeautifulSoup(text, \"html.parser\")\n",
    "    \n",
    "    clean_text = soup.get_text()\n",
    "    \n",
    "    return clean_text\n",
    "\n",
    "\n",
    "def replace_negations(text):\n",
    "    negation_dict = {\n",
    "        \"won't\": \"will not\",\n",
    "        \"can't\": \"cannot\",\n",
    "        \"n't\": \" not\",\n",
    "        \"isn't\": \"is not\",\n",
    "        \"aren't\": \"are not\",\n",
    "        \"wasn't\": \"was not\",\n",
    "        \"weren't\": \"were not\",\n",
    "        \"haven't\": \"have not\",\n",
    "        \"hasn't\": \"has not\",\n",
    "        \"hadn't\": \"had not\",\n",
    "        \"don't\": \"do not\",\n",
    "        \"doesn't\": \"does not\",\n",
    "        \"didn't\": \"did not\",\n",
    "        \"won't\": \"will not\",\n",
    "        \"wouldn't\": \"would not\",\n",
    "        \"can't\": \"cannot\",\n",
    "        \"couldn't\": \"could not\",\n",
    "        \"shouldn't\": \"should not\",\n",
    "        \"mightn't\": \"might not\",\n",
    "        \"mustn't\": \"must not\"\n",
    "    }\n",
    "    \n",
    "    for negation_word, replacement in negation_dict.items():\n",
    "        text = re.sub(r\"\\b\" + re.escape(negation_word) + r\"\\b\", replacement, text)\n",
    "    \n",
    "    return text\n",
    "\n",
    "\n",
    "def remove_non_ascii(text):\n",
    "    cleaned_text = re.sub(r'[^\\x00-\\x7F]+', '', text)\n",
    "    \n",
    "    return cleaned_text\n",
    "\n",
    "def remove_html_break_tags(text):\n",
    "    HTML_TAG_PATTERN = re.compile(r'<br\\s?/?>')\n",
    "    cleaned_text = HTML_TAG_PATTERN.sub('', text)\n",
    "    return cleaned_text\n",
    "\n",
    "\n",
    "def remove_emojis(text):\n",
    "    \n",
    "    emoji_pattern = re.compile(\"[\"\n",
    "                               u\"\\U0001F600-\\U0001F64F\"  \n",
    "                               u\"\\U0001F300-\\U0001F5FF\"  \n",
    "                               u\"\\U0001F680-\\U0001F6FF\" \n",
    "                               u\"\\U0001F700-\\U0001F77F\"  \n",
    "                               u\"\\U0001F780-\\U0001F7FF\"  \n",
    "                               u\"\\U0001F800-\\U0001F8FF\" \n",
    "                               u\"\\U0001F900-\\U0001F9FF\"  \n",
    "                               u\"\\U0001FA00-\\U0001FA6F\"  \n",
    "                               u\"\\U0001FA70-\\U0001FAFF\"  \n",
    "                               u\"\\U0001F004-\\U0001F0CF\"  \n",
    "                               u\"\\U0001F170-\\U0001F251\" \n",
    "                               \"]+\", flags=re.UNICODE)\n",
    "\n",
    "    \n",
    "    clean_text = emoji_pattern.sub('', text)\n",
    "    return clean_text\n"
   ]
  },
  {
   "cell_type": "code",
   "execution_count": null,
   "id": "4ebe25cc",
   "metadata": {},
   "outputs": [
    {
     "name": "stderr",
     "output_type": "stream",
     "text": [
      "C:\\Users\\mabha\\anaconda3\\lib\\site-packages\\bs4\\__init__.py:435: MarkupResemblesLocatorWarning: The input looks more like a filename than markup. You may want to open this file and pass the filehandle into Beautiful Soup.\n",
      "  warnings.warn(\n"
     ]
    }
   ],
   "source": [
    "\n",
    "df[\"review\"] = df[\"review\"].apply(remove_html_tags)\n",
    "df[\"review\"] = df[\"review\"].apply(remove_html_break_tags)\n",
    "df['review'] = df[\"review\"].apply(lowercase_text)\n",
    "df[\"review\"] = df[\"review\"].apply(replace_negations)\n",
    "df[\"review\"] = df[\"review\"].apply(remove_non_ascii)\n",
    "df['review'] = df[\"review\"].apply(tokenize_text)\n",
    "df[\"review\"] = df[\"review\"].apply(remove_stopwords)\n",
    "df[\"review\"] = df[\"review\"].apply(lemmatize_text)\n",
    "df['final_text'] = df[\"review\"].apply(join_tokens)\n",
    "df['final_text'] = df['final_text'].apply(clean_text)\n",
    "df['final_text'] = df['final_text'].apply(remove_emojis)\n",
    "df['final_text'] = df['final_text'].str.replace(r'\\bs\\b', \"\", regex=True, case=False)\n",
    "df['final_text'] = df['final_text'].str.replace(r'\\bnt\\b', \"not\", regex=True, case=False)\n"
   ]
  },
  {
   "cell_type": "code",
   "execution_count": null,
   "id": "81eea4f0",
   "metadata": {},
   "outputs": [],
   "source": [
    "df"
   ]
  },
  {
   "cell_type": "code",
   "execution_count": null,
   "id": "4618847b",
   "metadata": {},
   "outputs": [],
   "source": [
    "df[\"final_text\"]"
   ]
  },
  {
   "cell_type": "markdown",
   "id": "ed749f2a",
   "metadata": {},
   "source": [
    "# Exploratory Data Analysis"
   ]
  },
  {
   "cell_type": "code",
   "execution_count": null,
   "id": "42bd4f3a",
   "metadata": {},
   "outputs": [],
   "source": [
    "df['sentiment'].value_counts(normalize = True)"
   ]
  },
  {
   "cell_type": "code",
   "execution_count": null,
   "id": "bb158336",
   "metadata": {},
   "outputs": [],
   "source": [
    "\n",
    "num_documents = len(df)\n",
    "avg_text_length = df['final_text'].apply(len).mean()\n",
    "text_length_stats = df['final_text'].apply(len).describe()\n",
    "\n",
    "print(f\"Number of documents: {num_documents}\")\n",
    "print(f\"Average text length: {avg_text_length:.2f}\")\n",
    "print(\"Text length statistics:\\n\", text_length_stats)\n"
   ]
  },
  {
   "cell_type": "code",
   "execution_count": null,
   "id": "b1565b36",
   "metadata": {},
   "outputs": [],
   "source": [
    "plt.figure(figsize=(6, 4))\n",
    "sns.countplot(data=df, x='sentiment')\n",
    "plt.xlabel(\"Sentiment Class\")\n",
    "plt.ylabel(\"Count\")\n",
    "plt.title(\"Sentiment Class Distribution\")\n",
    "plt.show()"
   ]
  },
  {
   "cell_type": "markdown",
   "id": "2e26f002",
   "metadata": {},
   "source": [
    "We can see that the datapoints are balanced in the two sentiment classes."
   ]
  },
  {
   "cell_type": "code",
   "execution_count": null,
   "id": "b698dadb",
   "metadata": {},
   "outputs": [],
   "source": [
    "plt.figure(figsize=(8, 6))\n",
    "sns.histplot(df['final_text'].apply(len), bins=30, kde=True)\n",
    "plt.xlabel(\"Text Length\")\n",
    "plt.ylabel(\"Frequency\")\n",
    "plt.title(\"Text Length Distribution\")\n",
    "plt.show()"
   ]
  },
  {
   "cell_type": "code",
   "execution_count": null,
   "id": "bff7718d",
   "metadata": {},
   "outputs": [],
   "source": [
    "word_freq = Counter(' '.join(df['final_text']).split())\n",
    "\n",
    "most_common_word, highest_freq = word_freq.most_common(1)[0]\n",
    "\n",
    "print(f\"The word with the highest frequency is '{most_common_word}' with a frequency of {highest_freq}.\")"
   ]
  },
  {
   "cell_type": "code",
   "execution_count": null,
   "id": "901cda75",
   "metadata": {},
   "outputs": [],
   "source": [
    "\n",
    "combined_text = ' '.join(df['final_text'])\n",
    "word_freq = Counter(combined_text.split())\n",
    "\n",
    "wordcloud = WordCloud(width=800, height=400, background_color='white').generate_from_frequencies(word_freq)\n",
    "\n",
    "plt.figure(figsize=(10, 5))\n",
    "plt.imshow(wordcloud, interpolation='bilinear')\n",
    "plt.axis(\"off\")\n",
    "plt.title(\"Word Cloud\")\n",
    "plt.show()\n"
   ]
  },
  {
   "cell_type": "code",
   "execution_count": null,
   "id": "21c0deb0",
   "metadata": {},
   "outputs": [],
   "source": [
    "def wordcloud(df, text = 'final_text'):\n",
    "    \n",
    "    corpus = \" \".join(str(review) for review in df[text])\n",
    "    \n",
    "    print (f\"There are {len(corpus)} words in the combination of all review.\")\n",
    "    \n",
    "    wordcloud = WordCloud(max_font_size=50, \n",
    "                          max_words=100, \n",
    "                          collocations=False,\n",
    "                          background_color=\"white\").generate(corpus)\n",
    "    \n",
    "    plt.figure(figsize=(15,15))\n",
    "    plt.imshow(wordcloud, interpolation=\"bilinear\")\n",
    "    plt.axis(\"off\")\n",
    "    plt.show()"
   ]
  },
  {
   "cell_type": "code",
   "execution_count": null,
   "id": "8d2f738b",
   "metadata": {},
   "outputs": [],
   "source": [
    "\n",
    "positive = df[df['sentiment'] == 'positive']\n",
    "negative = df[df['sentiment'] == 'negative']\n",
    "print('Positive Wordcloud')\n",
    "wordcloud(df = positive)\n",
    "\n",
    "print('Negative Wordcloud')\n",
    "wordcloud(df = negative)"
   ]
  },
  {
   "cell_type": "markdown",
   "id": "c3393b90",
   "metadata": {},
   "source": [
    "# Sentiment Analysis Using ML Models"
   ]
  },
  {
   "cell_type": "code",
   "execution_count": 18,
   "id": "80dc74f2",
   "metadata": {},
   "outputs": [],
   "source": [
    "train, test= train_test_split(df, test_size=0.2, random_state=1)\n",
    "Xtrain, ytrain = train['review'], train['sentiment']\n",
    "Xtest, ytest = test['review'], test['sentiment']\n",
    "Xtrain = Xtrain.astype(str).tolist()\n",
    "Xtest = Xtest.astype(str).tolist()"
   ]
  },
  {
   "cell_type": "code",
   "execution_count": 19,
   "id": "f0da497d",
   "metadata": {},
   "outputs": [],
   "source": [
    "tfidf_vect = TfidfVectorizer() \n",
    "Xtrain_tfidf = tfidf_vect.fit_transform(Xtrain)\n",
    "Xtest_tfidf = tfidf_vect.transform(Xtest)\n",
    "count_vect = CountVectorizer() \n",
    "Xtrain_count = count_vect.fit_transform(Xtrain)\n",
    "Xtest_count = count_vect.transform(Xtest)"
   ]
  },
  {
   "cell_type": "code",
   "execution_count": 20,
   "id": "a1b251e9",
   "metadata": {},
   "outputs": [
    {
     "name": "stdout",
     "output_type": "stream",
     "text": [
      "Classification Report: \n",
      "               precision    recall  f1-score   support\n",
      "\n",
      "    Negative       0.91      0.88      0.89      5044\n",
      "    Positive       0.88      0.91      0.90      4956\n",
      "\n",
      "    accuracy                           0.89     10000\n",
      "   macro avg       0.90      0.90      0.89     10000\n",
      "weighted avg       0.90      0.89      0.89     10000\n",
      "\n",
      "Accuracy score: \n",
      " 0.8949\n"
     ]
    }
   ],
   "source": [
    "lr = LogisticRegression()\n",
    "lr.fit(Xtrain_tfidf,ytrain)\n",
    "p1=lr.predict(Xtest_tfidf)\n",
    "print('Classification Report: \\n', classification_report(ytest, p1, target_names = ['Negative', 'Positive']))\n",
    "print('Accuracy score: \\n', accuracy_score(ytest, p1))"
   ]
  },
  {
   "cell_type": "code",
   "execution_count": 21,
   "id": "c6f2e564",
   "metadata": {},
   "outputs": [
    {
     "name": "stdout",
     "output_type": "stream",
     "text": [
      "Classification Report: \n",
      "               precision    recall  f1-score   support\n",
      "\n",
      "    Negative       0.91      0.89      0.90      5044\n",
      "    Positive       0.89      0.91      0.90      4956\n",
      "\n",
      "    accuracy                           0.90     10000\n",
      "   macro avg       0.90      0.90      0.90     10000\n",
      "weighted avg       0.90      0.90      0.90     10000\n",
      "\n",
      "Accuracy score: \n",
      " 0.9008\n"
     ]
    }
   ],
   "source": [
    "linear_svc = LinearSVC(penalty='l2',loss = 'hinge')\n",
    "linear_svc.fit(Xtrain_tfidf,ytrain)\n",
    "p2=linear_svc.predict(Xtest_tfidf)\n",
    "print('Classification Report: \\n', classification_report(ytest, p2, target_names = ['Negative', 'Positive']))\n",
    "print('Accuracy score: \\n', accuracy_score(ytest, p2))"
   ]
  },
  {
   "cell_type": "markdown",
   "id": "5ac348d7",
   "metadata": {},
   "source": [
    "#  Semtiment Analysis Using DL Models"
   ]
  },
  {
   "cell_type": "code",
   "execution_count": 22,
   "id": "a19b1581",
   "metadata": {},
   "outputs": [],
   "source": [
    "movie_reviews = df['review'].values\n",
    "sentiment_class = df['sentiment'].values\n",
    "encoder = LabelEncoder()\n",
    "encoded_sentiment_class = encoder.fit_transform(sentiment_class)\n",
    "train_sentences, test_sentences, train_labels, test_labels = train_test_split(movie_reviews, encoded_sentiment_class, stratify = encoded_sentiment_class,random_state=1,test_size=0.2)"
   ]
  },
  {
   "cell_type": "code",
   "execution_count": 23,
   "id": "1e5cb82d",
   "metadata": {},
   "outputs": [],
   "source": [
    "size = 3000\n",
    "tok = ''\n",
    "embedding = 100\n",
    "max_length = 200 \n",
    "tokenizer = Tokenizer(num_words = size, oov_token=tok)\n",
    "tokenizer.fit_on_texts(train_sentences)\n",
    "word_index = tokenizer.word_index\n",
    "train_sequences = tokenizer.texts_to_sequences(train_sentences)\n",
    "train_padded = pad_sequences(train_sequences, padding='post', maxlen=max_length)\n",
    "test_sequences = tokenizer.texts_to_sequences(test_sentences)\n",
    "test_padded = pad_sequences(test_sequences, padding='post', maxlen=max_length)"
   ]
  },
  {
   "cell_type": "markdown",
   "id": "7d03a4c9",
   "metadata": {},
   "source": [
    "# RNN Model"
   ]
  },
  {
   "cell_type": "code",
   "execution_count": 24,
   "id": "beb4777a",
   "metadata": {},
   "outputs": [
    {
     "name": "stdout",
     "output_type": "stream",
     "text": [
      "Model: \"sequential\"\n",
      "_________________________________________________________________\n",
      " Layer (type)                Output Shape              Param #   \n",
      "=================================================================\n",
      " embedding (Embedding)       (None, 200, 32)           96000     \n",
      "                                                                 \n",
      " simple_rnn (SimpleRNN)      (None, 16)                784       \n",
      "                                                                 \n",
      " dense (Dense)               (None, 1)                 17        \n",
      "                                                                 \n",
      " activation (Activation)     (None, 1)                 0         \n",
      "                                                                 \n",
      "=================================================================\n",
      "Total params: 96801 (378.13 KB)\n",
      "Trainable params: 96801 (378.13 KB)\n",
      "Non-trainable params: 0 (0.00 Byte)\n",
      "_________________________________________________________________\n",
      "None\n"
     ]
    }
   ],
   "source": [
    "rnn = Sequential()\n",
    "rnn.add(Embedding(size,32,input_length =max_length))\n",
    "rnn.add(SimpleRNN(16,input_shape = (size,max_length), return_sequences=False,activation=\"relu\"))\n",
    "rnn.add(Dense(1))\n",
    "rnn.add(Activation(\"sigmoid\"))\n",
    "print(rnn.summary())\n",
    "rnn.compile(loss=\"binary_crossentropy\",optimizer=\"rmsprop\",metrics=[\"accuracy\"])"
   ]
  },
  {
   "cell_type": "code",
   "execution_count": 25,
   "id": "e815f520",
   "metadata": {},
   "outputs": [
    {
     "name": "stdout",
     "output_type": "stream",
     "text": [
      "Epoch 1/10\n",
      "1125/1125 [==============================] - 33s 29ms/step - loss: 0.6917 - accuracy: 0.5128 - val_loss: 0.6850 - val_accuracy: 0.5312\n",
      "Epoch 2/10\n",
      "1125/1125 [==============================] - 30s 27ms/step - loss: 0.5971 - accuracy: 0.6700 - val_loss: 0.4868 - val_accuracy: 0.8033\n",
      "Epoch 3/10\n",
      "1125/1125 [==============================] - 30s 27ms/step - loss: 0.4824 - accuracy: 0.8044 - val_loss: 0.4754 - val_accuracy: 0.8070\n",
      "Epoch 4/10\n",
      "1125/1125 [==============================] - 37s 33ms/step - loss: 0.4579 - accuracy: 0.8241 - val_loss: 1.0445 - val_accuracy: 0.7100\n",
      "Epoch 5/10\n",
      "1125/1125 [==============================] - 35s 32ms/step - loss: 0.4383 - accuracy: 0.8298 - val_loss: 0.4231 - val_accuracy: 0.8288\n",
      "Epoch 6/10\n",
      "1125/1125 [==============================] - 35s 31ms/step - loss: 0.4024 - accuracy: 0.8446 - val_loss: 0.4059 - val_accuracy: 0.8378\n",
      "Epoch 7/10\n",
      "1125/1125 [==============================] - 35s 31ms/step - loss: 0.3908 - accuracy: 0.8537 - val_loss: 0.4100 - val_accuracy: 0.8393\n",
      "Epoch 8/10\n",
      "1125/1125 [==============================] - 35s 31ms/step - loss: 0.3859 - accuracy: 0.8575 - val_loss: 0.4114 - val_accuracy: 0.8558\n",
      "Epoch 9/10\n",
      "1125/1125 [==============================] - 35s 31ms/step - loss: 0.3787 - accuracy: 0.8562 - val_loss: 0.3868 - val_accuracy: 0.8478\n",
      "Epoch 10/10\n",
      "1125/1125 [==============================] - 35s 31ms/step - loss: 0.3734 - accuracy: 0.8566 - val_loss: 0.3930 - val_accuracy: 0.8560\n"
     ]
    }
   ],
   "source": [
    "tensorflow.random.set_seed(1)\n",
    "history = rnn.fit(train_padded, train_labels, batch_size=32,epochs= 10, verbose=1,validation_split=0.1)"
   ]
  },
  {
   "cell_type": "code",
   "execution_count": 26,
   "id": "ea2e47b0",
   "metadata": {},
   "outputs": [
    {
     "name": "stdout",
     "output_type": "stream",
     "text": [
      "Evaluate Model Performance on Test set\n",
      "313/313 [==============================] - 3s 8ms/step - loss: 0.3904 - accuracy: 0.8508\n",
      "{'loss': 0.3904312252998352, 'accuracy': 0.8507999777793884}\n"
     ]
    }
   ],
   "source": [
    "print(\"Evaluate Model Performance on Test set\")\n",
    "result = rnn.evaluate(test_padded,test_labels)\n",
    "print(dict(zip(rnn.metrics_names, result)))"
   ]
  },
  {
   "cell_type": "markdown",
   "id": "50577dfb",
   "metadata": {},
   "source": [
    "# LSTM Model "
   ]
  },
  {
   "cell_type": "code",
   "execution_count": 27,
   "id": "87d66ee5",
   "metadata": {},
   "outputs": [
    {
     "name": "stdout",
     "output_type": "stream",
     "text": [
      "Model: \"sequential_1\"\n",
      "_________________________________________________________________\n",
      " Layer (type)                Output Shape              Param #   \n",
      "=================================================================\n",
      " embedding_1 (Embedding)     (None, 200, 100)          300000    \n",
      "                                                                 \n",
      " bidirectional (Bidirection  (None, 200, 256)          234496    \n",
      " al)                                                             \n",
      "                                                                 \n",
      " bidirectional_1 (Bidirecti  (None, 128)               164352    \n",
      " onal)                                                           \n",
      "                                                                 \n",
      " dense_1 (Dense)             (None, 24)                3096      \n",
      "                                                                 \n",
      " dense_2 (Dense)             (None, 1)                 25        \n",
      "                                                                 \n",
      "=================================================================\n",
      "Total params: 701969 (2.68 MB)\n",
      "Trainable params: 701969 (2.68 MB)\n",
      "Non-trainable params: 0 (0.00 Byte)\n",
      "_________________________________________________________________\n"
     ]
    }
   ],
   "source": [
    "optimizer='adam'\n",
    "loss='binary_crossentropy'\n",
    "model = tensorflow.keras.models.Sequential([\n",
    "    tensorflow.keras.layers.Embedding(size, embedding, input_length=max_length),\n",
    "    tensorflow.keras.layers.Bidirectional(tensorflow.keras.layers.LSTM(128, return_sequences=True)),\n",
    "    tensorflow.keras.layers.Bidirectional(tensorflow.keras.layers.LSTM(64)),\n",
    "    tensorflow.keras.layers.Dense(24, activation='relu'),\n",
    "    tensorflow.keras.layers.Dense(1, activation='sigmoid')\n",
    "])\n",
    "\n",
    "model.compile(loss=loss,\n",
    "              optimizer=optimizer,\n",
    "              metrics=['accuracy'])\n",
    "\n",
    "model.summary()"
   ]
  },
  {
   "cell_type": "code",
   "execution_count": 28,
   "id": "850040ea",
   "metadata": {},
   "outputs": [
    {
     "name": "stdout",
     "output_type": "stream",
     "text": [
      "Epoch 1/10\n",
      "1125/1125 [==============================] - 685s 603ms/step - loss: 0.6509 - accuracy: 0.6248 - val_loss: 0.6568 - val_accuracy: 0.6417\n",
      "Epoch 2/10\n",
      "1125/1125 [==============================] - 459s 408ms/step - loss: 0.4780 - accuracy: 0.7742 - val_loss: 0.3250 - val_accuracy: 0.8683\n",
      "Epoch 3/10\n",
      "1125/1125 [==============================] - 478s 425ms/step - loss: 0.2810 - accuracy: 0.8834 - val_loss: 0.2733 - val_accuracy: 0.8885\n",
      "Epoch 4/10\n",
      "1125/1125 [==============================] - 524s 466ms/step - loss: 0.2432 - accuracy: 0.9017 - val_loss: 0.2615 - val_accuracy: 0.8940\n",
      "Epoch 5/10\n",
      "1125/1125 [==============================] - 495s 440ms/step - loss: 0.2109 - accuracy: 0.9181 - val_loss: 0.2928 - val_accuracy: 0.8813\n",
      "Epoch 6/10\n",
      "1125/1125 [==============================] - 535s 476ms/step - loss: 0.1875 - accuracy: 0.9280 - val_loss: 0.2955 - val_accuracy: 0.8800\n",
      "Epoch 7/10\n",
      "1125/1125 [==============================] - 596s 530ms/step - loss: 0.1621 - accuracy: 0.9396 - val_loss: 0.3157 - val_accuracy: 0.8823\n",
      "Epoch 8/10\n",
      "1125/1125 [==============================] - 596s 530ms/step - loss: 0.1327 - accuracy: 0.9529 - val_loss: 0.3578 - val_accuracy: 0.8773\n",
      "Epoch 9/10\n",
      "1125/1125 [==============================] - 585s 520ms/step - loss: 0.1093 - accuracy: 0.9631 - val_loss: 0.4012 - val_accuracy: 0.8763\n",
      "Epoch 10/10\n",
      "1125/1125 [==============================] - 602s 535ms/step - loss: 0.0869 - accuracy: 0.9725 - val_loss: 0.4209 - val_accuracy: 0.8723\n"
     ]
    }
   ],
   "source": [
    "tensorflow.random.set_seed(1)\n",
    "training = model.fit(train_padded, train_labels, batch_size=32, \n",
    "                    epochs= 10, verbose=1, \n",
    "                    validation_split=0.1)"
   ]
  },
  {
   "cell_type": "code",
   "execution_count": 29,
   "id": "ad8d81a5",
   "metadata": {},
   "outputs": [
    {
     "name": "stdout",
     "output_type": "stream",
     "text": [
      "Evaluate Model Performance on Test set\n",
      "313/313 [==============================] - 80s 251ms/step - loss: 0.4274 - accuracy: 0.8668\n",
      "{'loss': 0.42743945121765137, 'accuracy': 0.8668000102043152}\n"
     ]
    }
   ],
   "source": [
    "print(\"Evaluate Model Performance on Test set\")\n",
    "result1 = model.evaluate(test_padded,test_labels)\n",
    "print(dict(zip(model.metrics_names, result1)))"
   ]
  },
  {
   "cell_type": "markdown",
   "id": "831fae5d",
   "metadata": {},
   "source": [
    "# Improved LSTM Model"
   ]
  },
  {
   "cell_type": "code",
   "execution_count": null,
   "id": "196e373c",
   "metadata": {},
   "outputs": [],
   "source": [
    "model = Sequential()\n",
    "model.add(Embedding(size, 64, input_length=max_length))\n",
    "model.add(Bidirectional(LSTM(64, return_sequences=True, input_shape=(None, 1))))\n",
    "model.add(Dropout(0.2))\n",
    "model.add(Bidirectional(LSTM(32)))\n",
    "model.add(Dropout(0.2))\n",
    "model.add(Dense(64, activation='relu'))\n",
    "model.add(Dropout(0.1))\n",
    "model.add(Dense(1, activation='sigmoid'))\n",
    "optimizer = tensorflow.keras.optimizers.Adam(learning_rate=0.01)\n",
    "model.compile(\n",
    "    loss=tensorflow.keras.losses.BinaryCrossentropy(from_logits=True), \n",
    "    optimizer=optimizer, \n",
    "    metrics=['accuracy']\n",
    ")\n",
    "model.summary()"
   ]
  },
  {
   "cell_type": "code",
   "execution_count": 31,
   "id": "732a621b",
   "metadata": {
    "scrolled": false
   },
   "outputs": [
    {
     "name": "stdout",
     "output_type": "stream",
     "text": [
      "Epoch 1/10\n"
     ]
    },
    {
     "name": "stderr",
     "output_type": "stream",
     "text": [
      "C:\\Users\\mabha\\anaconda3\\lib\\site-packages\\keras\\src\\backend.py:5820: UserWarning: \"`binary_crossentropy` received `from_logits=True`, but the `output` argument was produced by a Sigmoid activation and thus does not represent logits. Was this intended?\n",
      "  output, from_logits = _get_logits(\n"
     ]
    },
    {
     "name": "stdout",
     "output_type": "stream",
     "text": [
      "1125/1125 [==============================] - 282s 243ms/step - loss: 0.5111 - accuracy: 0.7544 - val_loss: 0.3803 - val_accuracy: 0.8242\n",
      "Epoch 2/10\n",
      "1125/1125 [==============================] - 519s 462ms/step - loss: 0.3569 - accuracy: 0.8493 - val_loss: 0.3364 - val_accuracy: 0.8630\n",
      "Epoch 3/10\n",
      "1125/1125 [==============================] - 253s 225ms/step - loss: 0.3181 - accuracy: 0.8709 - val_loss: 0.3034 - val_accuracy: 0.8685\n",
      "Epoch 4/10\n",
      "1125/1125 [==============================] - 249s 221ms/step - loss: 0.2985 - accuracy: 0.8786 - val_loss: 0.2931 - val_accuracy: 0.8723\n",
      "Epoch 5/10\n",
      "1125/1125 [==============================] - 254s 226ms/step - loss: 0.3009 - accuracy: 0.8770 - val_loss: 0.3221 - val_accuracy: 0.8633\n",
      "Epoch 6/10\n",
      "1125/1125 [==============================] - 256s 228ms/step - loss: 0.2883 - accuracy: 0.8810 - val_loss: 0.3136 - val_accuracy: 0.8618\n",
      "Epoch 7/10\n",
      "1125/1125 [==============================] - 254s 226ms/step - loss: 0.2889 - accuracy: 0.8823 - val_loss: 0.3283 - val_accuracy: 0.8610\n",
      "Epoch 8/10\n",
      "1125/1125 [==============================] - 250s 223ms/step - loss: 0.2789 - accuracy: 0.8856 - val_loss: 0.3241 - val_accuracy: 0.8675\n",
      "Epoch 9/10\n",
      "1125/1125 [==============================] - 246s 219ms/step - loss: 0.2822 - accuracy: 0.8859 - val_loss: 0.3227 - val_accuracy: 0.8605\n",
      "Epoch 10/10\n",
      "1125/1125 [==============================] - 252s 224ms/step - loss: 0.2790 - accuracy: 0.8907 - val_loss: 0.3076 - val_accuracy: 0.8710\n"
     ]
    }
   ],
   "source": [
    "tensorflow.random.set_seed(1)\n",
    "training = model.fit(train_padded, train_labels, batch_size=32, \n",
    "                    epochs= 10, verbose=1, \n",
    "                    validation_split=0.1)"
   ]
  },
  {
   "cell_type": "code",
   "execution_count": 33,
   "id": "58dfe2ce",
   "metadata": {},
   "outputs": [
    {
     "name": "stdout",
     "output_type": "stream",
     "text": [
      "Evaluate Model Performance on Test set\n",
      "313/313 [==============================] - 19s 57ms/step - loss: 0.3161 - accuracy: 0.8665\n",
      "{'loss': 0.31605392694473267, 'accuracy': 0.8665000200271606}\n"
     ]
    }
   ],
   "source": [
    "print(\"Evaluate Model Performance on Test set\")\n",
    "result = model.evaluate(test_padded,test_labels)\n",
    "print(dict(zip(model.metrics_names, result)))"
   ]
  },
  {
   "cell_type": "code",
   "execution_count": 34,
   "id": "fd253741",
   "metadata": {},
   "outputs": [
    {
     "data": {
      "image/png": "[encoded data removed]",
      "text/plain": [
       "<Figure size 1200x600 with 2 Axes>"
      ]
     },
     "metadata": {},
     "output_type": "display_data"
    }
   ],
   "source": [
    "history = training.history\n",
    "\n",
    "# Plot training & validation accuracy values\n",
    "plt.figure(figsize=(12, 6))\n",
    "plt.subplot(1, 2, 1)\n",
    "plt.plot(history['accuracy'])\n",
    "plt.plot(history['val_accuracy'])\n",
    "plt.title('Model Accuracy')\n",
    "plt.xlabel('Epoch')\n",
    "plt.ylabel('Accuracy')\n",
    "plt.legend(['Train', 'Validation'], loc='upper left')\n",
    "\n",
    "# Plot training & validation loss values\n",
    "plt.subplot(1, 2, 2)\n",
    "plt.plot(history['loss'])\n",
    "plt.plot(history['val_loss'])\n",
    "plt.title('Model Loss')\n",
    "plt.xlabel('Epoch')\n",
    "plt.ylabel('Loss')\n",
    "plt.legend(['Train', 'Validation'], loc='upper left')\n",
    "\n",
    "plt.tight_layout()\n",
    "plt.show()"
   ]
  },
  {
   "cell_type": "code",
   "execution_count": 35,
   "id": "320de6d2",
   "metadata": {},
   "outputs": [
    {
     "name": "stdout",
     "output_type": "stream",
     "text": [
      "1/1 [==============================] - 2s 2s/step\n",
      "I really enjoyed it. Its made more for the fans. Not critics.\n",
      "Predicted sentiment :  Positive\n",
      "I was more bored than scared.\n",
      "Predicted sentiment :  Negative\n",
      "Five Nights at Freddy’s commits the worst crime of all – it’s dull from beginning to end. It’s a frustrating miss on a premise and franchise that can be so much more.\n",
      "Predicted sentiment :  Negative\n"
     ]
    }
   ],
   "source": [
    "sentence = [\"I really enjoyed it. Its made more for the fans. Not critics.\", \n",
    "            \"I was more bored than scared.\", \n",
    "            \"Five Nights at Freddy’s commits the worst crime of all – it’s dull from beginning to end. It’s a frustrating miss on a premise and franchise that can be so much more.\"]\n",
    "sequences = tokenizer.texts_to_sequences(sentence)\n",
    "\n",
    "padded = pad_sequences(sequences, padding='post', maxlen=max_length)\n",
    "\n",
    "prediction = model.predict(padded)\n",
    "pred_labels = []\n",
    "for i in prediction:\n",
    "    if i >= 0.5:\n",
    "        pred_labels.append(1)\n",
    "    else:\n",
    "        pred_labels.append(0)\n",
    "for i in range(len(sentence)):\n",
    "    print(sentence[i])\n",
    "    if pred_labels[i] == 1:\n",
    "        s = 'Positive'bhjiji\n",
    "    else:\n",
    "        s = 'Negative'\n",
    "    print(\"Predicted sentiment : \",s)"
   ]
  }
 ],
 "metadata": {
  "kernelspec": {
   "display_name": "Python 3 (ipykernel)",
   "language": "python",
   "name": "python3"
  },
  "language_info": {
   "codemirror_mode": {
    "name": "ipython",
    "version": 3
   },
   "file_extension": ".py",
   "mimetype": "text/x-python",
   "name": "python",
   "nbconvert_exporter": "python",
   "pygments_lexer": "ipython3",
   "version": "3.9.13"
  }
 },
 "nbformat": 4,
 "nbformat_minor": 5
}
